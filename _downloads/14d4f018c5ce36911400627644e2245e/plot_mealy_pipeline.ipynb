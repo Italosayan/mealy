{
  "cells": [
    {
      "cell_type": "code",
      "execution_count": null,
      "metadata": {
        "collapsed": false
      },
      "outputs": [],
      "source": [
        "%matplotlib inline"
      ]
    },
    {
      "cell_type": "markdown",
      "metadata": {},
      "source": [
        "\n# Model Error Analysis with scikit-learn Pipeline for the Adult income dataset\n\nHere we train a RandomForestClassifier to predict whether a person gains\nmore or less than 50k per year. This is our primary model.\nBefore training the primary model we preprocess the categorical and numeric\nfeatures of the dataset by means of a scikit-learn Pipeline.\nThen we build a secondary model, called Error Tree,\nto predict on what samples the primary model returns wrong or correct predictions.\nThe Error Tree is a DecisionTree returning a binary outcome success/failure. The leaves\nyielding failure outcome gather the samples mis-predicted by the primary\nmodel. Plotting the feature distributions of these samples and comparing\nto the whole data highlights the subpopulations where the model works poorly.\n\n"
      ]
    },
    {
      "cell_type": "markdown",
      "metadata": {},
      "source": [
        "When using a python notebook, set ``%matplotlib inline`` to enable display.\n\n"
      ]
    },
    {
      "cell_type": "markdown",
      "metadata": {},
      "source": [
        "Those are the necessary imports and initializations.\n\n"
      ]
    },
    {
      "cell_type": "code",
      "execution_count": null,
      "metadata": {
        "collapsed": false
      },
      "outputs": [],
      "source": [
        "from sklearn.model_selection import train_test_split\nfrom sklearn.ensemble import RandomForestClassifier\nfrom sklearn.compose import ColumnTransformer\nfrom sklearn.preprocessing import StandardScaler, OneHotEncoder\nfrom sklearn.impute import SimpleImputer\nfrom sklearn.pipeline import Pipeline\n\nimport pandas as pd\nimport numpy as np\nimport random\n\nimport matplotlib.image as mpimg\nimport matplotlib.pyplot as plt\n\nfrom mealy.error_analyzer import ErrorAnalyzer\nfrom mealy.error_visualizer import ErrorVisualizer\n\n\ndefault_seed = 10\nnp.random.seed(default_seed)\nrandom.seed(default_seed)"
      ]
    },
    {
      "cell_type": "markdown",
      "metadata": {},
      "source": [
        "Load Adult income dataset.\n\n"
      ]
    },
    {
      "cell_type": "code",
      "execution_count": null,
      "metadata": {
        "collapsed": false
      },
      "outputs": [],
      "source": [
        "adult_income_url = 'https://www.openml.org/data/get_csv/54002/adult-census.arff'\n\ndf = pd.read_csv(adult_income_url)\n\nrow_id = 'ID'\ndf = df.drop([row_id], axis=1)\n\ntarget = 'class'\n\n\nX = df.dropna().drop(target, axis=1)\ny = df.dropna()[target]\n\nX_train, X_test, y_train, y_test = train_test_split(X, y, test_size=0.2)\n\nnumeric_features = df.select_dtypes(include=['int64', 'float64']).columns.tolist()\ncategorical_features = df.select_dtypes(include=['object']).drop([target], axis=1).columns.tolist()\n\nfeature_names = numeric_features + categorical_features\n\nprint('Categorical features of the adult dataset:')\nprint(categorical_features)\nprint('Numeric features of the adult dataset:')\nprint(numeric_features)"
      ]
    },
    {
      "cell_type": "markdown",
      "metadata": {},
      "source": [
        "## Build the preprocessing Pipeline.\n The final Pipeline should contain a `sklearn.compose.ColumnTransformer` as a\n preprocessor and any `sklearn.base.BaseEstimator` as the primary model to\n investigate.\n\n"
      ]
    },
    {
      "cell_type": "code",
      "execution_count": null,
      "metadata": {
        "collapsed": false
      },
      "outputs": [],
      "source": [
        "numeric_transformer = Pipeline(steps=[\n    ('imputer', SimpleImputer(strategy='median')),\n    ('scaler', StandardScaler())])\ncategorical_transformer = Pipeline(steps=[\n    ('imputer', SimpleImputer(strategy='constant', fill_value='missing')),\n    ('onehot', OneHotEncoder(handle_unknown='ignore'))])\n\npreprocessor = ColumnTransformer(\n    transformers=[\n        ('num', numeric_transformer, numeric_features),\n        ('cat', categorical_transformer, categorical_features)])\n\nmodel = Pipeline(steps=[('preprocessor', preprocessor),\n                        ('classifier', RandomForestClassifier(n_estimators=10))])"
      ]
    },
    {
      "cell_type": "markdown",
      "metadata": {},
      "source": [
        "Train preprocessing Pipeline and RandomForestClassifier.\n\n"
      ]
    },
    {
      "cell_type": "code",
      "execution_count": null,
      "metadata": {
        "collapsed": false
      },
      "outputs": [],
      "source": [
        "model.fit(X_train, y_train)\n\nacc_score = model.score(X_test, y_test)\nprint(\"Acc = %.2f\" % acc_score)"
      ]
    },
    {
      "cell_type": "markdown",
      "metadata": {},
      "source": [
        "Fit an Error Tree on the model performances.\n\n"
      ]
    },
    {
      "cell_type": "code",
      "execution_count": null,
      "metadata": {
        "collapsed": false
      },
      "outputs": [],
      "source": [
        "error_analyzer = ErrorAnalyzer(model, feature_names=feature_names)\nerror_analyzer.fit(X_test, y_test)"
      ]
    },
    {
      "cell_type": "markdown",
      "metadata": {},
      "source": [
        "Print metrics regarding the Error Tree.\n\n"
      ]
    },
    {
      "cell_type": "code",
      "execution_count": null,
      "metadata": {
        "collapsed": false
      },
      "outputs": [],
      "source": [
        "print(error_analyzer.evaluate(X_test, y_test, output_format='str'))"
      ]
    },
    {
      "cell_type": "markdown",
      "metadata": {},
      "source": [
        "Plot the Error Tree.\n\n"
      ]
    },
    {
      "cell_type": "code",
      "execution_count": null,
      "metadata": {
        "collapsed": false
      },
      "outputs": [],
      "source": [
        "error_visualizer = ErrorVisualizer(error_analyzer)\ntree_src = error_visualizer.plot_error_tree()\n\n# the output of ``plot_error_tree`` is rendered automatically in a python notebook with sliders\n# the following is for rendering in this sphinx gallery\ntree_src.format = 'png'\ntree_src.render('tree')\ntree_img = mpimg.imread('tree.png')\n\nplt.figure(figsize=(20, 20))\nplt.imshow(tree_img)\nplt.axis('off')"
      ]
    },
    {
      "cell_type": "markdown",
      "metadata": {},
      "source": [
        "Print the details regarding the decision tree nodes containing the majority of errors.\n\n"
      ]
    },
    {
      "cell_type": "code",
      "execution_count": null,
      "metadata": {
        "collapsed": false
      },
      "outputs": [],
      "source": [
        "error_analyzer.get_error_leaf_summary(leaf_selector=None, add_path_to_leaves=True);"
      ]
    },
    {
      "cell_type": "markdown",
      "metadata": {},
      "source": [
        "Plot the feature distributions of samples in the leaf containing the majority of errors.\nRank features by correlation to error.\n\n"
      ]
    },
    {
      "cell_type": "code",
      "execution_count": null,
      "metadata": {
        "collapsed": false
      },
      "outputs": [],
      "source": [
        "leaf_id = error_analyzer._get_ranked_leaf_ids()[0]\nerror_visualizer.plot_feature_distributions_on_leaves(leaf_selector=leaf_id, top_k_features=3)"
      ]
    },
    {
      "cell_type": "markdown",
      "metadata": {},
      "source": [
        "### Discussion\n\n#### Error Tree Metrics\n\nWe are dealing with a binary classification task.\nHere the primary predictions of \"income less or more than 50k\" have been categorized\nin two classes: 'Correct prediction' and 'Wrong prediction' according to the difference\nfrom the true class. The accuracy is then the number of Correct predictions over the total.\nThe Error Tree might not be representative of the behavior of the primary model as the true primary\naccuracy and the one estimated by the Error Tree are not close.\n\n#### Model Failures\n\nLet's focus on the nodes of the Error Tree, in particular the leaves\nof class 'Wrong prediction'. These leaves contain the majority of errors, each\nleaf clustering a subpopulation of errors with different feature values. The largest\nand purest failure nodes are highlighted when printing the error node summary, and\nalso when plotting the feature distributions in the node (``leaf_selector=None``).\nFrom the feature distributions, sorted by correlation with the error, we can see that\nthe majority of problems occur for married people.\nIn the next iteration of model design, the primary model needs to be improved for these\nsubpopulations.\n\n\n"
      ]
    }
  ],
  "metadata": {
    "kernelspec": {
      "display_name": "Python 3",
      "language": "python",
      "name": "python3"
    },
    "language_info": {
      "codemirror_mode": {
        "name": "ipython",
        "version": 3
      },
      "file_extension": ".py",
      "mimetype": "text/x-python",
      "name": "python",
      "nbconvert_exporter": "python",
      "pygments_lexer": "ipython3",
      "version": "3.6.8"
    }
  },
  "nbformat": 4,
  "nbformat_minor": 0
}