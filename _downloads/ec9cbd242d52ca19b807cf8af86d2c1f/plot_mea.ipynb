{
  "cells": [
    {
      "cell_type": "code",
      "execution_count": null,
      "metadata": {
        "collapsed": false
      },
      "outputs": [],
      "source": [
        "%matplotlib inline"
      ]
    },
    {
      "cell_type": "markdown",
      "metadata": {},
      "source": [
        "\nModel Error Analysis on Boston house\n===================================================================\n\nHere we train a primary model to predict the price of houses in Boston.\nThen we build a Model Performance Predictor, a Decision Tree trained to\npredict on what samples the primary model will yield Wrong or Correct\npredictions. We then use the Model Performance Predictor to understand\nwhat are the problematic samples and features where the majority of\nmodel failures occurs.\n\n"
      ]
    },
    {
      "cell_type": "markdown",
      "metadata": {},
      "source": [
        "Those are the necessary imports and initializations\n\n"
      ]
    },
    {
      "cell_type": "code",
      "execution_count": null,
      "metadata": {
        "collapsed": false
      },
      "outputs": [],
      "source": [
        "from sklearn.datasets import load_boston\nfrom sklearn.model_selection import train_test_split\nfrom sklearn.ensemble import RandomForestRegressor\n\nimport numpy as np\n\nfrom mea.error_analyzer import ErrorAnalyzer\nfrom mea.error_visualizer import ErrorVisualizer\n\nnp.random.seed(7)"
      ]
    },
    {
      "cell_type": "markdown",
      "metadata": {},
      "source": [
        "Load the Boston houses dataset\n\n"
      ]
    },
    {
      "cell_type": "code",
      "execution_count": null,
      "metadata": {
        "collapsed": false
      },
      "outputs": [],
      "source": [
        "dataset = load_boston()\nX = dataset.data\ny = dataset.target\nfeature_names = dataset.feature_names\n\nX_train, X_test, y_train, y_test = train_test_split(X, y, random_state=1)"
      ]
    },
    {
      "cell_type": "markdown",
      "metadata": {},
      "source": [
        "Train a RandomForestRegressor to predict the price.\nThis is the primary model.\n\n"
      ]
    },
    {
      "cell_type": "code",
      "execution_count": null,
      "metadata": {
        "collapsed": false
      },
      "outputs": [],
      "source": [
        "model = RandomForestRegressor()\nmodel.fit(X_train, y_train)\n\nr2_score = model.score(X_test, y_test)\nprint(\"R^2: {:.2f}\".format(r2_score))"
      ]
    },
    {
      "cell_type": "markdown",
      "metadata": {},
      "source": [
        "Fit a Model Performance Predictor on the primary model performances\n\n"
      ]
    },
    {
      "cell_type": "code",
      "execution_count": null,
      "metadata": {
        "collapsed": false
      },
      "outputs": [],
      "source": [
        "error_analyzer = ErrorAnalyzer(model, feature_names=feature_names)\nerror_analyzer.fit(X_test, y_test)"
      ]
    },
    {
      "cell_type": "markdown",
      "metadata": {},
      "source": [
        "Print metrics regarding the Model Performance Predictor\n\n"
      ]
    },
    {
      "cell_type": "code",
      "execution_count": null,
      "metadata": {
        "collapsed": false
      },
      "outputs": [],
      "source": [
        "print(error_analyzer.mpp_summary(X_test, y_test, output_dict=False))"
      ]
    },
    {
      "cell_type": "markdown",
      "metadata": {},
      "source": [
        "Plot the Model Performance Predictor Decision Tree\n\n"
      ]
    },
    {
      "cell_type": "code",
      "execution_count": null,
      "metadata": {
        "collapsed": false
      },
      "outputs": [],
      "source": [
        "error_visualizer = ErrorVisualizer(error_analyzer)\nerror_visualizer.plot_error_tree()"
      ]
    },
    {
      "cell_type": "markdown",
      "metadata": {},
      "source": [
        "Print the details regarding the decision tree nodes containing the majority of errors\n\n"
      ]
    },
    {
      "cell_type": "code",
      "execution_count": null,
      "metadata": {
        "collapsed": false
      },
      "outputs": [],
      "source": [
        "error_analyzer.error_node_summary(leaf_selector=\"all_errors\", add_path_to_leaves=True, print_summary=True)"
      ]
    },
    {
      "cell_type": "markdown",
      "metadata": {},
      "source": [
        "Plot the feature distributions of samples in the nodes containing the majority of errors\nRank features by correlation to error\n\n"
      ]
    },
    {
      "cell_type": "code",
      "execution_count": null,
      "metadata": {
        "collapsed": false
      },
      "outputs": [],
      "source": [
        "error_visualizer.plot_feature_distributions_on_leaves(leaf_selector=\"all_errors\", top_k_features=3)"
      ]
    },
    {
      "cell_type": "markdown",
      "metadata": {},
      "source": [
        "Discussion\n----------\n\nModel Performance Predictor Metrics\n^^^^^^^^^^^^^^^^^^^^^^^^^^^^^^^^^^^\nWe are facing a regression problem, but the primary predictions are thresholded\nand categorized into Wrong/Correct predictions. In this context, the primary task is\ntranslated into a binary classification and the primary model can be scored using an\naccuracy as the the average number of samples predicted as close enough to the true price.\nThis accuracy in this example is of 92.9%, that is correctly learnt by the MPP\nestimating the very same value. The analysis will focus than on those 7.1% of test samples\nwhere the primary predictions failed, i.e. are not close enough to the true value.\n\n\nModel Failures\n^^^^^^^^^^^^^^\n\nThe majority of failures are highlighted first in the most relevant failure node, the LEAF 16.\nFrom the feature distribution, we see that most failures occur for high values of feature RM and AGE.\nIn the next iteration of model design, we need a strategy to improve the primary model\non those sub-populations.\n\n\n"
      ]
    }
  ],
  "metadata": {
    "kernelspec": {
      "display_name": "Python 3",
      "language": "python",
      "name": "python3"
    },
    "language_info": {
      "codemirror_mode": {
        "name": "ipython",
        "version": 3
      },
      "file_extension": ".py",
      "mimetype": "text/x-python",
      "name": "python",
      "nbconvert_exporter": "python",
      "pygments_lexer": "ipython3",
      "version": "3.6.8"
    }
  },
  "nbformat": 4,
  "nbformat_minor": 0
}